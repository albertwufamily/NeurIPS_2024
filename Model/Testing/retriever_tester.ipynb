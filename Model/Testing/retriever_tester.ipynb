{
 "cells": [
  {
   "cell_type": "code",
   "execution_count": 2,
   "metadata": {},
   "outputs": [
    {
     "name": "stderr",
     "output_type": "stream",
     "text": [
      "/Library/Frameworks/Python.framework/Versions/3.12/lib/python3.12/site-packages/tqdm/auto.py:21: TqdmWarning: IProgress not found. Please update jupyter and ipywidgets. See https://ipywidgets.readthedocs.io/en/stable/user_install.html\n",
      "  from .autonotebook import tqdm as notebook_tqdm\n",
      "/Library/Frameworks/Python.framework/Versions/3.12/lib/python3.12/site-packages/threadpoolctl.py:1214: RuntimeWarning: \n",
      "Found Intel OpenMP ('libiomp') and LLVM OpenMP ('libomp') loaded at\n",
      "the same time. Both libraries are known to be incompatible and this\n",
      "can cause random crashes or deadlocks on Linux when loaded in the\n",
      "same Python program.\n",
      "Using threadpoolctl may cause crashes or deadlocks. For more\n",
      "information and possible workarounds, please see\n",
      "    https://github.com/joblib/threadpoolctl/blob/master/multiple_openmp.md\n",
      "\n",
      "  warnings.warn(msg, RuntimeWarning)\n",
      "/var/folders/4g/khtx1g1d45b0d9g7569zqq2r0000gn/T/ipykernel_16269/55445840.py:5: DeprecationWarning: \n",
      "Pyarrow will become a required dependency of pandas in the next major release of pandas (pandas 3.0),\n",
      "(to allow more performant data types, such as the Arrow string type, and better interoperability with other libraries)\n",
      "but was not found to be installed on your system.\n",
      "If this would cause problems for you,\n",
      "please provide us feedback at https://github.com/pandas-dev/pandas/issues/54466\n",
      "        \n",
      "  import pandas as pd\n"
     ]
    }
   ],
   "source": [
    "import torch\n",
    "from transformers import pipeline\n",
    "from transformers import AutoTokenizer, AutoModel\n",
    "from sklearn.model_selection import train_test_split\n",
    "import pandas as pd\n",
    "modelname = \"medicalai/ClinicalBERT\"\n",
    "bertTokenizer = AutoTokenizer.from_pretrained(modelname)\n",
    "bertModel = AutoModel.from_pretrained(modelname)\n",
    "#https://huggingface.co/medicalai/ClinicalBERT\n",
    "dataset = pd.read_csv('fullembeddings.csv')\n",
    "tensor_data = torch.tensor(dataset.values)"
   ]
  },
  {
   "cell_type": "code",
   "execution_count": 3,
   "metadata": {},
   "outputs": [
    {
     "name": "stdout",
     "output_type": "stream",
     "text": [
      "torch.float64\n"
     ]
    }
   ],
   "source": [
    "print(tensor_data.dtype)"
   ]
  },
  {
   "cell_type": "code",
   "execution_count": 4,
   "metadata": {},
   "outputs": [],
   "source": [
    "def calculate_similarity (tensor_a, tensor_b):\n",
    "  # Calculate the dot product of the two tensors\n",
    "  dot_product = torch.dot(tensor_a, tensor_b)\n",
    "\n",
    "  # Calculate the magnitudes of the two tensors\n",
    "  magnitude_a = torch.norm(tensor_a)\n",
    "  magnitude_b = torch.norm(tensor_b)\n",
    "\n",
    "  # Calculate the cosine similarity\n",
    "  cosine_similarity = dot_product / (magnitude_a * magnitude_b)\n",
    "\n",
    "  # Print the cosine similarity\n",
    "  return(cosine_similarity)"
   ]
  },
  {
   "cell_type": "code",
   "execution_count": 10,
   "metadata": {},
   "outputs": [
    {
     "ename": "KeyboardInterrupt",
     "evalue": "",
     "output_type": "error",
     "traceback": [
      "\u001b[0;31m---------------------------------------------------------------------------\u001b[0m",
      "\u001b[0;31mKeyboardInterrupt\u001b[0m                         Traceback (most recent call last)",
      "Cell \u001b[0;32mIn[10], line 28\u001b[0m\n\u001b[1;32m     25\u001b[0m results \u001b[38;5;241m=\u001b[39m [(i, calculate_similarity(x,questionEmbedding)) \u001b[38;5;28;01mfor\u001b[39;00m i, x \u001b[38;5;129;01min\u001b[39;00m \u001b[38;5;28menumerate\u001b[39m(tensor_data)]\n\u001b[1;32m     27\u001b[0m \u001b[38;5;66;03m# Sort the results by the function's output values in descending order and get the top five\u001b[39;00m\n\u001b[0;32m---> 28\u001b[0m top_five \u001b[38;5;241m=\u001b[39m \u001b[38;5;28;43msorted\u001b[39;49m\u001b[43m(\u001b[49m\u001b[43mresults\u001b[49m\u001b[43m,\u001b[49m\u001b[43m \u001b[49m\u001b[43mkey\u001b[49m\u001b[38;5;241;43m=\u001b[39;49m\u001b[38;5;28;43;01mlambda\u001b[39;49;00m\u001b[43m \u001b[49m\u001b[43mx\u001b[49m\u001b[43m:\u001b[49m\u001b[43m \u001b[49m\u001b[43mx\u001b[49m\u001b[43m[\u001b[49m\u001b[38;5;241;43m1\u001b[39;49m\u001b[43m]\u001b[49m\u001b[43m,\u001b[49m\u001b[43m \u001b[49m\u001b[43mreverse\u001b[49m\u001b[38;5;241;43m=\u001b[39;49m\u001b[38;5;28;43;01mTrue\u001b[39;49;00m\u001b[43m)\u001b[49m[:\u001b[38;5;241m1\u001b[39m]\n\u001b[1;32m     30\u001b[0m \u001b[38;5;66;03m# Extract the indices of the top five results\u001b[39;00m\n\u001b[1;32m     31\u001b[0m top_five_indices \u001b[38;5;241m=\u001b[39m [x[\u001b[38;5;241m0\u001b[39m] \u001b[38;5;28;01mfor\u001b[39;00m x \u001b[38;5;129;01min\u001b[39;00m top_five]\n",
      "\u001b[0;31mKeyboardInterrupt\u001b[0m: "
     ]
    }
   ],
   "source": [
    "closestidx = 0\n",
    "closeness = 0\n",
    "questions = {58: \"What role do transcription factors play in regulating the activity of RNA polymerase II during gene transcription?\",\n",
    "             63: \"What types of early-onset cancers are individuals with Li-Fraumeni syndrome at an increased risk for due to heterozygous loss-of-function mutations in the gene encoding p53?\",\n",
    "             111: \"Which amino acids are conditionally essential, and what are the specific precursor amino acids needed for the synthesis of cysteine, tyrosine, arginine, proline, and glycine?\",\n",
    "             218: \"What is the mechanism of toxicity for organophosphorus (OP) compounds, and how does the rate of ageing of the OP-enzyme complex influence the severity of poisoning?\",\n",
    "             260: \"How do organophosphorus (OP) compounds cause toxicity, what role does the rate of ageing of the OP-enzyme complex play in determining the severity of poisoning, and how do different compounds such as dimethyl, diethyl, and nerve agents vary in their ageing rates?\",\n",
    "             269: \"What are the steps involved in the diagnosis and initial medical management of severe hypercalcaemia, including the role of intravenous saline, bisphosphonates, and calcitonin, and what further actions should be taken if hypercalcaemia persists or indicates tumor progression?\",\n",
    "             322: \"What are the typical infectious diseases causing unexplained fever among travellers returning from tropical regions, and how does the evolving global travel pattern influence the epidemiology of infectious diseases? Additionally, how effective are pre-travel interventions such as vaccination, insect bite prevention, and food and water hygiene in mitigating the risk of acquiring these infections?\",\n",
    "             421: \"What are the symptoms and complications associated with chlamydial infection in men, and what treatment approaches are recommended? How significant is contact-tracing in managing and preventing the spread of chlamydia among sexual partners?\",\n",
    "             591: \"Can you elaborate on the various anti-arrhythmic drugs mentioned in the text, including the administration and specific uses of atropine sulphate, adenosine, and digoxin, and discuss their mechanisms of action, potential side effects, and particular considerations for their use in different patient populations, such as those with severe bradycardia, supraventricular tachycardia (SVT), atrial fibrillation (AF), or renal impairment? Additionally, how are external defibrillation and electrical cardioversion utilized in the treatment of arrhythmias, and what are the procedural steps and precautions involved in these therapeutic interventions?\",\n",
    "             614: \"How does an exercise tolerance test approximately 4 weeks after an acute coronary syndrome help in identifying individuals with residual myocardial ischemia and what is the significance of the results of this test in predicting future adverse events within the next 12 months?\",\n",
    "             635: \"What are the clinical features and management strategies for mitral regurgitation, and how does the condition progress from mild forms, where the valve remains competent but bulges back into the atrium during systole, to severe cases that may require surgical intervention?\",\n",
    "             773: \"What are the key investigations and management strategies for primary amenorrhoea? How does secondary amenorrhoea differ in terms of causes and diagnostic approach, particularly in distinguishing between ovarian dysfunction and hypothalamic/pituitary disorders?\",\n",
    "             810: \"What are the challenges in imaging and diagnosing aldosterone-producing adenomas (APAs) using CT or MRI, and what alternative diagnostic procedures are recommended if imaging is inconclusive but there is strong biochemical evidence of an APA? Additionally, what are the management options and their effectiveness for patients with primary hyperaldosteronism, particularly those with an APA?\",\n",
    "             930: \"What are the key symptoms and complications of diverticular disease, and how does it resemble conditions like colorectal cancer and inflammatory bowel disease? Explain the diagnostic methods used to identify diverticular disease and its complications. Additionally, outline the management strategies for asymptomatic cases and acute diverticulitis, including dietary recommendations, antibiotic treatment, and surgical options, considering recurrence risks and serious outcomes such as perforation or abscess formation.\",\n",
    "             970: \"What are the key features of hepatitis C infection, including its asymptomatic nature and diagnostic challenges? How does the treatment of chronic hepatitis C differ based on viral genotype, and what are the goals and potential complications associated with therapy, including liver transplantation outcomes?\",\n",
    "             1031:\"What are the key principles guiding the use of anticoagulant and antithrombotic medications, and how do these drugs differ in their efficacy for preventing arterial versus venous thromboembolism? How are newer oral anticoagulants like dabigatran and rivaroxaban being evaluated in clinical trials for preventing thrombosis, particularly in high-risk orthopedic surgery?\",\n",
    "             1051:\"How does the Philadelphia chromosome contribute to the pathogenesis of chronic myeloid leukaemia (CML), and what role does the BCR ABL chimeric gene play in the disease's development, including its impact on cellular processes like proliferation, differentiation, and survival?\"}\n",
    "questionTokens = bertTokenizer(questions[58], padding=True, truncation=True, return_tensors=\"pt\", max_length=512)\n",
    "questionOutput = bertModel(**questionTokens)\n",
    "questionEmbedding = torch.mean(questionOutput.last_hidden_state[0], dim=0, dtype=float)\n",
    "for i in range(dataset.shape[0]):\n",
    "  # Apply the function to each element in the list and store the results with their indices\n",
    "    results = [(i, calculate_similarity(x,questionEmbedding)) for i, x in enumerate(tensor_data)]\n",
    "    \n",
    "    # Sort the results by the function's output values in descending order and get the top five\n",
    "    top_five = sorted(results, key=lambda x: x[1], reverse=True)[:5]\n",
    "    \n",
    "    # Extract the indices of the top five results\n",
    "    top_five_indices = [x[0] for x in top_five]\n",
    "#print(dataset['answer'].tolist()[closestidx])\n"
   ]
  },
  {
   "cell_type": "code",
   "execution_count": null,
   "metadata": {},
   "outputs": [],
   "source": [
    "print()"
   ]
  },
  {
   "cell_type": "code",
   "execution_count": null,
   "metadata": {},
   "outputs": [
    {
     "name": "stdout",
     "output_type": "stream",
     "text": [
      "[626, 630, 625, 636, 640]\n"
     ]
    }
   ],
   "source": [
    "print(top_five_indices)"
   ]
  }
 ],
 "metadata": {
  "interpreter": {
   "hash": "aee8b7b246df8f9039afb4144a1f6fd8d2ca17a180786b69acc140d282b71a49"
  },
  "kernelspec": {
   "display_name": "Python 3.12.0 64-bit",
   "language": "python",
   "name": "python3"
  },
  "language_info": {
   "codemirror_mode": {
    "name": "ipython",
    "version": 3
   },
   "file_extension": ".py",
   "mimetype": "text/x-python",
   "name": "python",
   "nbconvert_exporter": "python",
   "pygments_lexer": "ipython3",
   "version": "3.12.0"
  },
  "orig_nbformat": 4
 },
 "nbformat": 4,
 "nbformat_minor": 2
}

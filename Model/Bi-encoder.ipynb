{
 "cells": [
  {
   "cell_type": "code",
   "execution_count": 3,
   "metadata": {},
   "outputs": [
    {
     "name": "stderr",
     "output_type": "stream",
     "text": [
      "Some weights of the model checkpoint at medicalai/ClinicalBERT were not used when initializing DistilBertModel: ['vocab_projector.weight', 'vocab_transform.weight', 'vocab_transform.bias', 'vocab_projector.bias', 'vocab_layer_norm.bias', 'vocab_layer_norm.weight']\n",
      "- This IS expected if you are initializing DistilBertModel from the checkpoint of a model trained on another task or with another architecture (e.g. initializing a BertForSequenceClassification model from a BertForPreTraining model).\n",
      "- This IS NOT expected if you are initializing DistilBertModel from the checkpoint of a model that you expect to be exactly identical (initializing a BertForSequenceClassification model from a BertForSequenceClassification model).\n"
     ]
    }
   ],
   "source": [
    "import torch\n",
    "from transformers import pipeline\n",
    "from transformers import AutoTokenizer, AutoModel\n",
    "from sklearn.model_selection import train_test_split\n",
    "import pandas as pd\n",
    "modelname = \"medicalai/ClinicalBERT\"\n",
    "bertTokenizer = AutoTokenizer.from_pretrained(modelname)\n",
    "bertModel = AutoModel.from_pretrained(modelname)\n",
    "#https://huggingface.co/medicalai/ClinicalBERT"
   ]
  },
  {
   "cell_type": "code",
   "execution_count": 4,
   "metadata": {},
   "outputs": [],
   "source": [
    "batch_size = 25\n",
    "start = 600"
   ]
  },
  {
   "cell_type": "code",
   "execution_count": 5,
   "metadata": {},
   "outputs": [],
   "source": [
    "start = 600\n",
    "dataset = pd.read_csv('file.csv')\n",
    "dataset = dataset.dropna()\n",
    "raw_inputs = [row[0] for row in dataset.values.tolist()]\n",
    "batch_of_inputs = raw_inputs[start:start+batch_size]\n",
    "inputs = bertTokenizer(raw_inputs, padding=True, truncation=True, return_tensors=\"pt\", max_length=512)\n",
    "outputs = bertModel(**inputs)\n",
    "embeddings = torch.empty(batch_size, 768)\n",
    "for i in range(batch_size):\n",
    "  average = torch.mean(outputs.last_hidden_state[i], dim=0)\n",
    "  embeddings[i]=average\n",
    "t_np = embeddings.numpy() #convert to Numpy array\n",
    "df = pd.DataFrame(t_np) #convert to a dataframe\n",
    "df.to_csv(\"embeddings6.0\",index=False) #save to file\n"
   ]
  },
  {
   "cell_type": "code",
   "execution_count": 11,
   "metadata": {},
   "outputs": [],
   "source": [
    "def calculate_similarity (tensor_a, tensor_b):\n",
    "  # Calculate the dot product of the two tensors\n",
    "  dot_product = torch.dot(tensor_a, tensor_b)\n",
    "\n",
    "  # Calculate the magnitudes of the two tensors\n",
    "  magnitude_a = torch.norm(tensor_a)\n",
    "  magnitude_b = torch.norm(tensor_b)\n",
    "\n",
    "  # Calculate the cosine similarity\n",
    "  cosine_similarity = dot_product / (magnitude_a * magnitude_b)\n",
    "\n",
    "  # Print the cosine similarity\n",
    "  return(cosine_similarity)\n"
   ]
  },
  {
   "cell_type": "code",
   "execution_count": 13,
   "metadata": {},
   "outputs": [
    {
     "name": "stdout",
     "output_type": "stream",
     "text": [
      "4\n"
     ]
    }
   ],
   "source": [
    "closestidx = 0\n",
    "closeness = 0\n",
    "questionidx = 78\n",
    "questionTokens = bertTokenizer(dataset['question'].tolist()[questionidx], padding=True, truncation=True, return_tensors=\"pt\", max_length=512)\n",
    "questionOutput = bertModel(**questionTokens)\n",
    "questionEmbedding = torch.mean(questionOutput.last_hidden_state[0], dim=0)\n",
    "for i in range(20):\n",
    "  if calculate_similarity(embeddings[i], questionEmbedding) > closeness:\n",
    "    closeness = calculate_similarity(embeddings[i], questionEmbedding)\n",
    "    closestidx = i\n",
    "print(closestidx)\n",
    "#print(dataset['answer'].tolist()[closestidx])\n"
   ]
  }
 ],
 "metadata": {
  "interpreter": {
   "hash": "40d3a090f54c6569ab1632332b64b2c03c39dcf918b08424e98f38b5ae0af88f"
  },
  "kernelspec": {
   "display_name": "Python 3.9.16",
   "language": "python",
   "name": "python3"
  },
  "language_info": {
   "codemirror_mode": {
    "name": "ipython",
    "version": 3
   },
   "file_extension": ".py",
   "mimetype": "text/x-python",
   "name": "python",
   "nbconvert_exporter": "python",
   "pygments_lexer": "ipython3",
   "version": "3.9.16"
  },
  "orig_nbformat": 4
 },
 "nbformat": 4,
 "nbformat_minor": 2
}

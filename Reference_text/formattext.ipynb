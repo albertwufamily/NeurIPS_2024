{
 "cells": [
  {
   "cell_type": "code",
   "execution_count": 1,
   "metadata": {},
   "outputs": [
    {
     "name": "stdout",
     "output_type": "stream",
     "text": [
      "1377\n"
     ]
    }
   ],
   "source": [
    "# importing required modules \n",
    "from pypdf import PdfReader \n",
    "  \n",
    "# creating a pdf reader object \n",
    "reader = PdfReader('Medical book.pdf') \n",
    "  \n",
    "# printing number of pages in pdf file \n",
    "print(len(reader.pages)) \n",
    "  \n",
    "# getting a specific page from the pdf file \n",
    "page = reader.pages[100] \n",
    "  \n",
    "# extracting text from page \n",
    "text = page.extract_text() \n",
    "raw_inputs = []\n",
    "for i in range (len(reader.pages)):\n",
    "    raw_inputs.append(reader.pages[i].extract_text())"
   ]
  },
  {
   "cell_type": "code",
   "execution_count": 4,
   "metadata": {},
   "outputs": [],
   "source": [
    "import csv\n",
    "import pandas\n",
    "\n",
    "df = pandas.DataFrame(data={\"col1\": raw_inputs})\n",
    "df.to_csv(\"./file.csv\", sep=',',index=False)"
   ]
  }
 ],
 "metadata": {
  "interpreter": {
   "hash": "aee8b7b246df8f9039afb4144a1f6fd8d2ca17a180786b69acc140d282b71a49"
  },
  "kernelspec": {
   "display_name": "Python 3.12.0 64-bit",
   "language": "python",
   "name": "python3"
  },
  "language_info": {
   "codemirror_mode": {
    "name": "ipython",
    "version": 3
   },
   "file_extension": ".py",
   "mimetype": "text/x-python",
   "name": "python",
   "nbconvert_exporter": "python",
   "pygments_lexer": "ipython3",
   "version": "3.12.0"
  },
  "orig_nbformat": 4
 },
 "nbformat": 4,
 "nbformat_minor": 2
}
